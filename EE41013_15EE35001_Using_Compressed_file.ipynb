{
 "cells": [
  {
   "cell_type": "code",
   "execution_count": 1,
   "metadata": {
    "collapsed": true
   },
   "outputs": [],
   "source": [
    "import numpy as np\n",
    "import matplotlib.pyplot as plt\n",
    "from scipy.io import wavfile\n",
    "\n",
    "from scipy.fftpack import dct, idct\n",
    "\n",
    "%matplotlib inline"
   ]
  },
  {
   "cell_type": "code",
   "execution_count": 2,
   "metadata": {
    "collapsed": false
   },
   "outputs": [
    {
     "name": "stderr",
     "output_type": "stream",
     "text": [
      "C:\\Users\\Rohith\\Anaconda3\\lib\\site-packages\\scipy\\io\\wavfile.py:267: WavFileWarning: Chunk (non-data) not understood, skipping it.\n",
      "  WavFileWarning)\n"
     ]
    }
   ],
   "source": [
    "fs, sound = wavfile.read('C:/Users/Rohith/Desktop/sem 7/DSP/OneSecondSound.wav')"
   ]
  },
  {
   "cell_type": "code",
   "execution_count": 3,
   "metadata": {
    "collapsed": true
   },
   "outputs": [],
   "source": [
    "def X_DCT(x, L):\n",
    "    N = len(x)\n",
    "    X = dct(x)\n",
    "    return [0 if k>=N-L else X[k] for k in range(N)]"
   ]
  },
  {
   "cell_type": "code",
   "execution_count": 4,
   "metadata": {
    "collapsed": true
   },
   "outputs": [],
   "source": [
    "def dct_tofile(x, M, fname = 'compfile'):\n",
    "    N = len(x)\n",
    "    dct_comp = X_DCT(x, M)\n",
    "    with open(fname, 'w') as file:\n",
    "        file.write(str(N)+'\\n')\n",
    "        file.write(str(M)+'\\n')\n",
    "        file.write('\\n'.join([str(i) for i in dct_comp]))"
   ]
  },
  {
   "cell_type": "code",
   "execution_count": 5,
   "metadata": {
    "collapsed": true
   },
   "outputs": [],
   "source": [
    "dct_tofile(sound, 0, 'compfile.txt')"
   ]
  },
  {
   "cell_type": "code",
   "execution_count": 6,
   "metadata": {
    "collapsed": true
   },
   "outputs": [],
   "source": [
    "def fromfile(fname = 'compfile.txt'):\n",
    "    X_comp = []\n",
    "    with open(fname, 'r') as file:\n",
    "        for num, line in enumerate(file):\n",
    "            if num == 0:\n",
    "                N = int(line)\n",
    "            elif num == 1:\n",
    "                M = int(line)\n",
    "            else:\n",
    "                X_comp.append(float(line))\n",
    "    return idct(X_comp)/(2*N)"
   ]
  },
  {
   "cell_type": "code",
   "execution_count": 7,
   "metadata": {
    "collapsed": true
   },
   "outputs": [],
   "source": [
    "x = fromfile()"
   ]
  }
 ],
 "metadata": {
  "kernelspec": {
   "display_name": "Python 3",
   "language": "python",
   "name": "python3"
  },
  "language_info": {
   "codemirror_mode": {
    "name": "ipython",
    "version": 3
   },
   "file_extension": ".py",
   "mimetype": "text/x-python",
   "name": "python",
   "nbconvert_exporter": "python",
   "pygments_lexer": "ipython3",
   "version": "3.6.0"
  }
 },
 "nbformat": 4,
 "nbformat_minor": 2
}
